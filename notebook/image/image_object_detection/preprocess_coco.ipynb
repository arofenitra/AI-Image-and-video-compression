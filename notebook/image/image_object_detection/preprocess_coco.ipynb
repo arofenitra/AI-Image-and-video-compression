{
 "cells": [
  {
   "cell_type": "code",
   "execution_count": 1,
   "metadata": {},
   "outputs": [],
   "source": [
    "import os\n",
    "import json\n",
    "from PIL import Image\n",
    "\n",
    "# Paths\n",
    "coco_images_dir = \"datasets/coco/images/val2017\"\n",
    "coco_annotations_file = \"datasets/coco/annotations/instances_val2017.json\"\n",
    "output_dir = \"datasets/coco_resized/images\"\n",
    "\n",
    "os.makedirs(output_dir, exist_ok=True)"
   ]
  },
  {
   "cell_type": "code",
   "execution_count": 2,
   "metadata": {},
   "outputs": [],
   "source": [
    "# Load annotations\n",
    "with open(coco_annotations_file, 'r') as f:\n",
    "    coco_annotations = json.load(f)"
   ]
  },
  {
   "cell_type": "code",
   "execution_count": 3,
   "metadata": {},
   "outputs": [],
   "source": [
    "# Function to resize image and update bounding boxes\n",
    "def resize_image_and_boxes(image, annotations, target_divisor=64):\n",
    "    w, h = image.size\n",
    "    new_w = (w // target_divisor) * target_divisor\n",
    "    new_h = (h // target_divisor) * target_divisor\n",
    "\n",
    "    resized_image = image.resize((new_w, new_h))\n",
    "\n",
    "    scale_x = new_w / w\n",
    "    scale_y = new_h / h\n",
    "\n",
    "    for ann in annotations:\n",
    "        bbox = ann['bbox']\n",
    "        ann['bbox'] = [\n",
    "            bbox[0] * scale_x,\n",
    "            bbox[1] * scale_y,\n",
    "            bbox[2] * scale_x,\n",
    "            bbox[3] * scale_y\n",
    "        ]\n",
    "\n",
    "    return resized_image, annotations\n",
    "\n",
    "updated_annotations_list = []\n",
    "# Process all images\n",
    "for image_info in coco_annotations['images']:\n",
    "    image_path = os.path.join(coco_images_dir, image_info['file_name'])\n",
    "    image = Image.open(image_path)\n",
    "\n",
    "    # Get annotations for the image\n",
    "    image_annotations = [ann for ann in coco_annotations['annotations'] if ann['image_id'] == image_info['id']]\n",
    "\n",
    "    # Resize image and update bounding boxes\n",
    "    resized_image, updated_annotations = resize_image_and_boxes(image, image_annotations)\n",
    "\n",
    "    # Save resized image\n",
    "    output_image_path = os.path.join(output_dir, image_info['file_name'])\n",
    "    resized_image.save(output_image_path)\n",
    "\n",
    "    updated_annotations_list.extend(updated_annotations)"
   ]
  },
  {
   "cell_type": "code",
   "execution_count": 5,
   "metadata": {},
   "outputs": [],
   "source": [
    "# Save updated annotations\n",
    "resized_annotations_file = \"datasets/coco_compressed/annotations/instances_new_val2017.json\"\n",
    "with open(resized_annotations_file, 'w') as f:\n",
    "    json.dump(updated_annotations_list, f)"
   ]
  }
 ],
 "metadata": {
  "kernelspec": {
   "display_name": "Python 3",
   "language": "python",
   "name": "python3"
  },
  "language_info": {
   "codemirror_mode": {
    "name": "ipython",
    "version": 3
   },
   "file_extension": ".py",
   "mimetype": "text/x-python",
   "name": "python",
   "nbconvert_exporter": "python",
   "pygments_lexer": "ipython3",
   "version": "3.10.12"
  },
  "orig_nbformat": 4
 },
 "nbformat": 4,
 "nbformat_minor": 2
}
