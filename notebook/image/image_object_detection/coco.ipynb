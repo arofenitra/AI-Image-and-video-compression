{
 "cells": [
  {
   "cell_type": "code",
   "execution_count": 34,
   "metadata": {},
   "outputs": [],
   "source": [
    "device = \"cuda:5\""
   ]
  },
  {
   "cell_type": "code",
   "execution_count": 35,
   "metadata": {},
   "outputs": [],
   "source": [
    "from ultralytics import YOLO\n",
    "detection_model = YOLO(\"yolo12x.pt\").to(device).eval()"
   ]
  },
  {
   "cell_type": "code",
   "execution_count": 51,
   "metadata": {},
   "outputs": [],
   "source": [
    "model_names = [\n",
    "    None, None\n",
    "] + [\n",
    "    (\"bmshj2018-factorized\", i) for i in range(1, 9)\n",
    "]"
   ]
  },
  {
   "cell_type": "code",
   "execution_count": 52,
   "metadata": {},
   "outputs": [],
   "source": [
    "from PIL import Image\n",
    "from torchvision import transforms\n",
    "import torch as th\n",
    "\n",
    "def compress_image(input_path, output_path, model=None):\n",
    "    img = Image.open(input_path).convert(\"RGB\")\n",
    "    x = transforms.ToTensor()(img).unsqueeze(0).to(device)\n",
    "\n",
    "    if model is not None:\n",
    "        with th.no_grad():\n",
    "            x = model(x)[\"x_hat\"].clamp(0, 1)\n",
    "\n",
    "    reconstructed_img = transforms.ToPILImage()(x.squeeze(0))\n",
    "    reconstructed_img.save(output_path)"
   ]
  },
  {
   "cell_type": "code",
   "execution_count": 53,
   "metadata": {},
   "outputs": [
    {
     "data": {
      "application/vnd.jupyter.widget-view+json": {
       "model_id": "c6dfa8c4f7ce4393acdfb185536e1811",
       "version_major": 2,
       "version_minor": 0
      },
      "text/plain": [
       "  0%|          | 0/5000 [00:00<?, ?it/s]"
      ]
     },
     "metadata": {},
     "output_type": "display_data"
    },
    {
     "name": "stdout",
     "output_type": "stream",
     "text": [
      "YOLOv12x summary (fused): 283 layers, 59,135,744 parameters, 0 gradients, 199.0 GFLOPs\n"
     ]
    },
    {
     "name": "stderr",
     "output_type": "stream",
     "text": [
      "\u001b[34m\u001b[1mval: \u001b[0mScanning /data/mavrinti/neural-image-compression/datasets/coco_compressed/labels/val2017... 4952 images, 48 backgrounds, 0 corrupt: 100%|██████████| 5000/5000 [00:34<00:00, 145.49it/s]\n"
     ]
    },
    {
     "name": "stdout",
     "output_type": "stream",
     "text": [
      "\u001b[34m\u001b[1mval: \u001b[0mNew cache created: /data/mavrinti/neural-image-compression/datasets/coco_compressed/labels/val2017.cache\n"
     ]
    },
    {
     "name": "stderr",
     "output_type": "stream",
     "text": [
      "                 Class     Images  Instances      Box(P          R      mAP50  mAP50-95): 100%|██████████| 313/313 [03:00<00:00,  1.73it/s]\n"
     ]
    },
    {
     "name": "stdout",
     "output_type": "stream",
     "text": [
      "                   all       5000      36335       0.65      0.475      0.524      0.349\n",
      "                person       2693      10777      0.786      0.586      0.672      0.446\n",
      "               bicycle        149        314      0.713      0.285      0.371      0.218\n",
      "                   car        535       1918      0.717      0.384      0.454      0.261\n",
      "            motorcycle        159        367      0.753      0.561      0.634      0.403\n",
      "              airplane         97        143      0.718      0.762      0.813      0.626\n",
      "                   bus        189        283      0.744      0.675      0.748      0.606\n",
      "                 train        157        190      0.806      0.774       0.85      0.686\n",
      "                 truck        250        414      0.653      0.367      0.456      0.302\n",
      "                  boat        121        424      0.523      0.325       0.35      0.172\n",
      "         traffic light        191        634      0.686      0.227      0.297      0.144\n",
      "          fire hydrant         86        101      0.932      0.678      0.772      0.592\n",
      "             stop sign         69         75      0.788      0.594      0.676      0.552\n",
      "         parking meter         37         60      0.692      0.533      0.579      0.397\n",
      "                 bench        235        411      0.704      0.271      0.333      0.211\n",
      "                  bird        125        427      0.582      0.378      0.388      0.233\n",
      "                   cat        184        202      0.785      0.761      0.828      0.642\n",
      "                   dog        177        218       0.64      0.706      0.737      0.588\n",
      "                 horse        128        272      0.716      0.713      0.734      0.507\n",
      "                 sheep         65        354      0.669      0.562      0.623      0.383\n",
      "                   cow         87        372      0.627      0.615      0.615      0.381\n",
      "              elephant         89        252      0.758      0.756      0.796       0.58\n",
      "                  bear         49         71      0.884      0.592      0.782      0.621\n",
      "                 zebra         85        266      0.846      0.647      0.792      0.578\n",
      "               giraffe        101        232      0.896      0.776      0.853      0.608\n",
      "              backpack        228        371      0.481      0.162      0.206      0.107\n",
      "              umbrella        174        407      0.691       0.55      0.599      0.399\n",
      "               handbag        292        540      0.546      0.196      0.242      0.124\n",
      "                   tie        145        252      0.635      0.414      0.462      0.271\n",
      "              suitcase        105        299      0.561      0.465      0.475      0.286\n",
      "               frisbee         84        115      0.792      0.643      0.739      0.478\n",
      "                  skis        120        241      0.546      0.336      0.366      0.199\n",
      "             snowboard         49         69      0.504      0.391      0.418      0.263\n",
      "           sports ball        169        260      0.708      0.385      0.432      0.208\n",
      "                  kite         91        327      0.622      0.422      0.463      0.286\n",
      "          baseball bat         97        145      0.687      0.531      0.545      0.313\n",
      "        baseball glove        100        148      0.621      0.431      0.453      0.176\n",
      "            skateboard        127        179      0.735      0.631      0.657      0.399\n",
      "             surfboard        149        267      0.713      0.543      0.585      0.343\n",
      "         tennis racket        167        225      0.746      0.639      0.697      0.401\n",
      "                bottle        379       1013      0.657      0.306      0.384      0.225\n",
      "            wine glass        110        341      0.749      0.305      0.405      0.239\n",
      "                   cup        390        895      0.653      0.393      0.457      0.277\n",
      "                  fork        155        215      0.651      0.428      0.498      0.305\n",
      "                 knife        181        325      0.538      0.248      0.296      0.163\n",
      "                 spoon        153        253      0.394      0.249       0.23      0.139\n",
      "                  bowl        314        623      0.624      0.456      0.496      0.342\n",
      "                banana        103        370      0.521      0.316      0.361      0.213\n",
      "                 apple         76        236      0.524       0.25      0.259      0.146\n",
      "              sandwich         98        177      0.586       0.36      0.413      0.283\n",
      "                orange         85        285      0.537      0.344      0.398       0.28\n",
      "              broccoli         71        312      0.504      0.253      0.308      0.162\n",
      "                carrot         81        365      0.527      0.287      0.325      0.166\n",
      "               hot dog         51        125       0.66      0.456      0.518      0.369\n",
      "                 pizza        153        284      0.794       0.57      0.663      0.506\n",
      "                 donut         62        328      0.608      0.424      0.455       0.33\n",
      "                  cake        124        310      0.585      0.426      0.482      0.302\n",
      "                 chair        580       1771      0.607      0.354      0.422      0.246\n",
      "                 couch        195        261      0.655       0.54      0.602      0.438\n",
      "          potted plant        172        342        0.5      0.313      0.298      0.164\n",
      "                   bed        149        163      0.507      0.669      0.661      0.528\n",
      "          dining table        501        695      0.577      0.446      0.472      0.334\n",
      "                toilet        149        179      0.756      0.743      0.804      0.622\n",
      "                    tv        207        288      0.666      0.705      0.732      0.536\n",
      "                laptop        183        231      0.748      0.697      0.739      0.604\n",
      "                 mouse         88        106      0.641      0.585      0.601      0.376\n",
      "                remote        145        283      0.531      0.343      0.363      0.195\n",
      "              keyboard        106        153      0.732      0.542      0.641      0.444\n",
      "            cell phone        214        262      0.547       0.42      0.438      0.276\n",
      "             microwave         54         55      0.637      0.745      0.714      0.541\n",
      "                  oven        115        143      0.609      0.497       0.54      0.368\n",
      "               toaster          8          9      0.785      0.411       0.55       0.22\n",
      "                  sink        187        225      0.548      0.516      0.519      0.309\n",
      "          refrigerator        101        126      0.574       0.69       0.72      0.584\n",
      "                  book        230       1129      0.524      0.122      0.198      0.097\n",
      "                 clock        204        267        0.8      0.521      0.607      0.377\n",
      "                  vase        137        274      0.625      0.387      0.419      0.262\n",
      "              scissors         28         36      0.654      0.417      0.425      0.325\n",
      "            teddy bear         94        190      0.722      0.521      0.568      0.404\n",
      "            hair drier          9         11      0.257     0.0909       0.11     0.0601\n",
      "            toothbrush         34         57      0.458      0.368      0.309      0.194\n",
      "Speed: 0.2ms preprocess, 24.0ms inference, 0.0ms loss, 1.9ms postprocess per image\n",
      "Saving runs/detect/val6/predictions.json...\n",
      "\n",
      "Evaluating pycocotools mAP using runs/detect/val6/predictions.json and /data/mavrinti/neural-image-compression/datasets/coco_compressed/annotations/instances_val2017.json...\n",
      "loading annotations into memory...\n",
      "Done (t=0.86s)\n",
      "creating index...\n",
      "index created!\n",
      "Loading and preparing results...\n",
      "DONE (t=4.85s)\n",
      "creating index...\n",
      "index created!\n",
      "Running per image evaluation...\n",
      "Evaluate annotation type *bbox*\n",
      "DONE (t=89.89s).\n",
      "Accumulating evaluation results...\n",
      "DONE (t=24.37s).\n",
      " Average Precision  (AP) @[ IoU=0.50:0.95 | area=   all | maxDets=100 ] = 0.394\n",
      " Average Precision  (AP) @[ IoU=0.50      | area=   all | maxDets=100 ] = 0.544\n",
      " Average Precision  (AP) @[ IoU=0.75      | area=   all | maxDets=100 ] = 0.426\n",
      " Average Precision  (AP) @[ IoU=0.50:0.95 | area= small | maxDets=100 ] = 0.176\n",
      " Average Precision  (AP) @[ IoU=0.50:0.95 | area=medium | maxDets=100 ] = 0.437\n",
      " Average Precision  (AP) @[ IoU=0.50:0.95 | area= large | maxDets=100 ] = 0.618\n",
      " Average Recall     (AR) @[ IoU=0.50:0.95 | area=   all | maxDets=  1 ] = 0.330\n",
      " Average Recall     (AR) @[ IoU=0.50:0.95 | area=   all | maxDets= 10 ] = 0.529\n",
      " Average Recall     (AR) @[ IoU=0.50:0.95 | area=   all | maxDets=100 ] = 0.570\n",
      " Average Recall     (AR) @[ IoU=0.50:0.95 | area= small | maxDets=100 ] = 0.301\n",
      " Average Recall     (AR) @[ IoU=0.50:0.95 | area=medium | maxDets=100 ] = 0.642\n",
      " Average Recall     (AR) @[ IoU=0.50:0.95 | area= large | maxDets=100 ] = 0.810\n",
      "Results saved to \u001b[1mruns/detect/val6\u001b[0m\n"
     ]
    }
   ],
   "source": [
    "from compressai.zoo import models\n",
    "import os\n",
    "from tqdm.notebook import tqdm\n",
    "\n",
    "for model_name in model_names:\n",
    "    compress_model = None\n",
    "    if model_name is not None:\n",
    "        compress_model = models[model_name[0]](quality=model_name[1], pretrained=True).to(device).eval()\n",
    "    \n",
    "    for image_name in tqdm(os.listdir(\"datasets/coco/images/val2017\")):\n",
    "        compress_image(os.path.join(\"datasets/coco/images/val2017\", image_name), os.path.join(\"datasets/coco_compressed/images/val2017\", image_name), model=compress_model)\n",
    "\n",
    "    results = detection_model.val(data=\"coco_compressed.yaml\")\n",
    "    print(model_name[0] if model_name is not None else None, model_name[1] if model_name is not None else None, results.box.map, results.box.map50, results.box.map75)"
   ]
  },
  {
   "attachments": {},
   "cell_type": "markdown",
   "metadata": {},
   "source": [
    "---"
   ]
  }
 ],
 "metadata": {
  "kernelspec": {
   "display_name": "Python 3",
   "language": "python",
   "name": "python3"
  },
  "language_info": {
   "codemirror_mode": {
    "name": "ipython",
    "version": 3
   },
   "file_extension": ".py",
   "mimetype": "text/x-python",
   "name": "python",
   "nbconvert_exporter": "python",
   "pygments_lexer": "ipython3",
   "version": "3.10.12"
  },
  "orig_nbformat": 4
 },
 "nbformat": 4,
 "nbformat_minor": 2
}
